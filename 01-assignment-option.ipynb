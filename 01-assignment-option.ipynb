{
 "cells": [
  {
   "cell_type": "markdown",
   "metadata": {},
   "source": [
    "# lesson01选做题"
   ]
  },
  {
   "cell_type": "markdown",
   "metadata": {},
   "source": [
    "### 是否匹配"
   ]
  },
  {
   "cell_type": "code",
   "execution_count": 4,
   "metadata": {},
   "outputs": [],
   "source": [
    "import random\n",
    "choice = random.choice\n",
    "def is_variable(pat):\n",
    "    return pat.startswith('?') and all(s.isalpha() for s in pat[1:])\n",
    "\n",
    "def pat_match(pattern = 'My ?X told me something',saying= 'My mother is fuking you'):\n",
    "    if not pattern or not saying: return []\n",
    "    if is_variable(pattern[0]):\n",
    "        try:\n",
    "            return [(pattern[0],saying[0])] + pat_match(pattern[1:],saying[1:])\n",
    "        except TypeError:\n",
    "            return False\n",
    "    else:\n",
    "        if pattern[0] != saying[0]:return False\n",
    "        else:\n",
    "            return pat_match(pattern[1:],saying[1:])\n",
    "\n",
    "pat_match('?X want holiday'.split(),\"who want holiday\".split())\n",
    "\n",
    "def pat_to_dict(patterns):\n",
    "    return {k:v for k,v in patterns}\n",
    "\n",
    "def subsitite(rule,parsed_rules):\n",
    "    if not rule: return []\n",
    "    return [parsed_rules.get(rule[0],rule[0])] + subsitite(rule[1:],parsed_rules)"
   ]
  },
  {
   "cell_type": "code",
   "execution_count": 5,
   "metadata": {},
   "outputs": [
    {
     "data": {
      "text/plain": [
       "'What if you mean if you got a iPhone'"
      ]
     },
     "execution_count": 5,
     "metadata": {},
     "output_type": "execute_result"
    }
   ],
   "source": [
    "got_patterns = pat_match(\"I wangt ?X\".split(),\"I wangt iPhone\".split())\n",
    "' '.join(subsitite(\"What if you mean if you got a ?X\".split(), pat_to_dict(got_patterns)))"
   ]
  },
  {
   "cell_type": "markdown",
   "metadata": {},
   "source": [
    "### 定义规则，进行匹配"
   ]
  },
  {
   "cell_type": "code",
   "execution_count": 6,
   "metadata": {},
   "outputs": [
    {
     "data": {
      "text/plain": [
       "'How do you think about your mother ?'"
      ]
     },
     "execution_count": 6,
     "metadata": {},
     "output_type": "execute_result"
    }
   ],
   "source": [
    "defined_patterns = {\n",
    "    \"I need ?X\": [\"Image you will get ?X soon\", \"Why do you need ?X ?\"], \n",
    "    \"My ?X told me something\": [\"Talk about more about your ?X\", \"How do you think about your ?X ?\"]\n",
    "}\n",
    "\n",
    "def get_response(saying,defined_patterns):\n",
    "    for rule in defined_patterns.keys():\n",
    "        if pat_match(rule.split(),saying.split()):\n",
    "            ans = choice(defined_patterns[rule])\n",
    "            got_patterns = pat_match(rule.split(),saying.split())\n",
    "            continue\n",
    "    try:\n",
    "        return ' '.join(subsitite(ans.split(), pat_to_dict(got_patterns)))\n",
    "    except UnboundLocalError:\n",
    "        return print('no matching rule')\n",
    "\n",
    "get_response('My mother told me something',defined_patterns)"
   ]
  },
  {
   "cell_type": "markdown",
   "metadata": {},
   "source": [
    "## 复杂问题匹配"
   ]
  },
  {
   "cell_type": "code",
   "execution_count": 7,
   "metadata": {},
   "outputs": [],
   "source": [
    "def is_pattern_segment(pattern):\n",
    "    return pattern.startswith('?*') and all(a.isalpha() for a in pattern[2:])\n",
    "\n",
    "from collections import defaultdict\n",
    "\n",
    "fail = [True, None]\n",
    "\n",
    "def pat_match_with_seg(pattern, saying):\n",
    "    \n",
    "    global match_level_start\n",
    "    \n",
    "    if not pattern or not saying: return []\n",
    "    \n",
    "    pat = pattern[0]\n",
    "    if is_variable(pat):\n",
    "        return [(pat, saying[0])] + pat_match_with_seg(pattern[1:], saying[1:])[0:-1] + [match_level_start]\n",
    "    elif is_pattern_segment(pat):\n",
    "        match, index, match_level = segment_match(pattern, saying)\n",
    "        match_level_start *= match_level\n",
    "#        print(match_level_start)\n",
    "        return [match] + pat_match_with_seg(pattern[1:], saying[index:])[0:-1] + [match_level_start]\n",
    "    elif pat == saying[0]:\n",
    "        return pat_match_with_seg(pattern[1:], saying[1:])[0:-1] + [match_level_start]\n",
    "    else:\n",
    "        return fail\n",
    "\n",
    "def segment_match(pattern, saying):\n",
    "    seg_pat, rest = pattern[0], pattern[1:]\n",
    "    seg_pat = seg_pat.replace('?*', '?')\n",
    "\n",
    "    if not rest: return (seg_pat, saying), len(saying) ,1   \n",
    "    \n",
    "    for i, token in enumerate(saying):\n",
    "        if rest[0] == token and is_match(rest[1:], saying[(i + 1):]):\n",
    "            return (seg_pat, saying[:i]), i,1\n",
    "    \n",
    "    return (seg_pat, saying), len(saying),0\n",
    "\n",
    "def is_match(rest, saying):\n",
    "    if not rest and not saying:\n",
    "        return True\n",
    "    if not all(a.isalpha() for a in rest[0]):\n",
    "        return True\n",
    "    if rest[0] != saying[0]:\n",
    "        return False\n",
    "    return is_match(rest[1:], saying[1:])\n",
    "\n",
    "def pat_to_dict(patterns):\n",
    "    return {k: ' '.join(v) if isinstance(v, list) else v for k, v in patterns}"
   ]
  },
  {
   "cell_type": "markdown",
   "metadata": {},
   "source": [
    "### 中文匹配"
   ]
  },
  {
   "cell_type": "code",
   "execution_count": 10,
   "metadata": {},
   "outputs": [],
   "source": [
    "import jieba\n",
    "\n",
    "def cut(string):return list(jieba.cut(string))\n",
    "\n",
    "defined_patterns_chinese = {\n",
    "    '?*x我想?*y': ['你觉得?y有什么意义呢？', '为什么你想?y', '你可以想想你很快就可以?y了'],\n",
    "    '?*x我想要?*y': ['?x想问你，你觉得?y有什么意义呢?', '为什么你想?y', '?x觉得... 你可以想想你很快就可以有?y了', '你看?x像?y不', '我看你就像?y'],\n",
    "    '?*x喜欢?*y': ['喜欢?y的哪里？', '?y有什么好的呢？', '你想要?y吗？'],\n",
    "    '?*x讨厌?*y': ['?y怎么会那么讨厌呢?', '讨厌?y的哪里？', '?y有什么不好呢？', '你不想要?y吗？'],\n",
    "    '?*xAI?*y': ['你为什么要提AI的事情？', '你为什么觉得AI要解决你的问题？'],\n",
    "    '?*x机器人?*y': ['你为什么要提机器人的事情？', '你为什么觉得机器人要解决你的问题？'],\n",
    "    '?*x对不起?*y': ['不用道歉', '你为什么觉得你需要道歉呢?'],\n",
    "    '?*x我记得?*y': ['你经常会想起这个吗？', '除了?y你还会想起什么吗？', '你为什么和我提起?y'],\n",
    "    '?*x如果?*y': ['你真的觉得?y会发生吗？', '你希望?y吗?', '真的吗？如果?y的话', '关于?y你怎么想？'],\n",
    "    '?*x我?*z梦见?*y':['真的吗? --- ?y', '你在醒着的时候，以前想象过?y吗？', '你以前梦见过?y吗'],\n",
    "    '?*x妈妈?*y': ['你家里除了?y还有谁?', '嗯嗯，多说一点和你家里有关系的', '她对你影响很大吗？'],\n",
    "    '?*x爸爸?*y': ['你家里除了?y还有谁?', '嗯嗯，多说一点和你家里有关系的', '他对你影响很大吗？', '每当你想起你爸爸的时候， 你还会想起其他的吗?'],\n",
    "    '?*x我愿意?*y': ['我可以帮你?y吗？', '你可以解释一下，为什么想?y'],\n",
    "    '?*x我很难过，因为?*y': ['我听到你这么说， 也很难过', '?y不应该让你这么难过的'],\n",
    "    '?*x难过?*y': ['我听到你这么说， 也很难过',\n",
    "                 '不应该让你这么难过的，你觉得你拥有什么，就会不难过?',\n",
    "                 '你觉得事情变成什么样，你就不难过了?'],\n",
    "    '?*x就像?*y': ['你觉得?x和?y有什么相似性？', '?x和?y真的有关系吗？', '怎么说？'],\n",
    "    '?*x和?*y都?*z': ['你觉得?z有什么问题吗?', '?z会对你有什么影响呢?'],\n",
    "    '?*x和?*y一样?*z': ['你觉得?z有什么问题吗?', '?z会对你有什么影响呢?'],\n",
    "    '?*x我是?*y': ['真的吗？', '?x想告诉你，或许我早就知道你是?y', '你为什么现在才告诉我你是?y'],\n",
    "    '?*x我是?*y吗': ['如果你是?y会怎么样呢？', '你觉得你是?y吗', '如果你是?y，那一位着什么?'],\n",
    "    '?*x你是?*y吗':  ['你为什么会对我是不是?y感兴趣?', '那你希望我是?y吗', '你要是喜欢， 我就会是?y'],\n",
    "    '?*x你是?*y' : ['为什么你觉得我是?y'],\n",
    "    '?*x因为?*y' : ['?y是真正的原因吗？', '你觉得会有其他原因吗?'],\n",
    "    '?*x我不能?*y': ['你或许现在就能?*y', '如果你能?*y,会怎样呢？'],\n",
    "    '?*x我觉得?*y': ['你经常这样感觉吗？', '除了到这个，你还有什么其他的感觉吗？'],\n",
    "    '?*x我?*y你?*z': ['其实很有可能我们互相?y'],\n",
    "    '?*x你为什么不?*y': ['你自己为什么不?y', '你觉得我不会?y', '等我心情好了，我就?y'],\n",
    "    '?*x好的?*y': ['好的', '你是一个很正能量的人'],\n",
    "    '?*x嗯嗯?*y': ['好的', '你是一个很正能量的人'],\n",
    "    '?*x不嘛?*y': ['为什么不？', '你有一点负能量', '你说 不，是想表达不想的意思吗？'],\n",
    "    '?*x不要?*y': ['为什么不？', '你有一点负能量', '你说 不，是想表达不想的意思吗？'],\n",
    "    '?*x有些人?*y': ['具体是哪些人呢?'],\n",
    "    '?*x有的人?*y': ['具体是哪些人呢?'],\n",
    "    '?*x某些人?*y': ['具体是哪些人呢?'],\n",
    "    '?*x每个人?*y': ['我确定不是人人都是', '你能想到一点特殊情况吗？', '例如谁？', '你看到的其实只是一小部分人'],\n",
    "    '?*x所有人?*y': ['我确定不是人人都是', '你能想到一点特殊情况吗？', '例如谁？', '你看到的其实只是一小部分人'],\n",
    "    '?*x总是?*y': ['你能想到一些其他情况吗?', '例如什么时候?', '你具体是说哪一次？', '真的---总是吗？'],\n",
    "    '?*x一直?*y': ['你能想到一些其他情况吗?', '例如什么时候?', '你具体是说哪一次？', '真的---总是吗？'],\n",
    "    '?*x或许?*y': ['你看起来不太确定'],\n",
    "    '?*x可能?*y': ['你看起来不太确定'],\n",
    "    '?*x他们是?*y吗？': ['你觉得他们可能不是?y？'],\n",
    "    '?*x你好?*y': ['你好呀', '请告诉我你的问题'],\n",
    "    '可这话是?*x说的':['?x说的就一定是真的吗，你再重复一边就代表你也有责任吧',\n",
    "                 '我从未见过?x这样的厚颜无耻之徒',\n",
    "                 '?x你算计我!!',\n",
    "                 '?x接我律师函警告']           \n",
    "}\n",
    "\n",
    "def string2rule(rule):\n",
    "    string = []\n",
    "    rule = cut(rule)\n",
    "    for i,word in enumerate(rule):\n",
    "        if i == 0:\n",
    "            string.append(word)\n",
    "        else:\n",
    "            if '\\u4e00' <= word <= '\\u9fff' and (string[-1] > '\\u9fff' or string[-1] < '\\u4e00'):\n",
    "                string.append(' ')\n",
    "                string.append(word)\n",
    "            elif '\\u4e00' <= string[-1] <= '\\u9fff' and ('\\u4e00' <= word <= '\\u9fff'):\n",
    "                string.append(' ')\n",
    "                string.append(word)\n",
    "            elif (word > '\\u9fff' or word < '\\u4e00') and '\\u4e00' <= string[-1] <= '\\u9fff':\n",
    "                string.append(' ')\n",
    "                string.append(word)\n",
    "            else:string.append(word)\n",
    "    rule = ''.join(string)\n",
    "    return rule\n",
    "                \n",
    "def get_response_chinese(saying_chinese,defined_patterns_chinese):\n",
    "    saying_jieba = ' '.join(cut(saying_chinese))\n",
    "#    print(saying)\n",
    "    for rule in defined_patterns_chinese.keys():\n",
    "        global match_level_start \n",
    "        match_level_start = 1\n",
    "        rule_jieba = string2rule(rule)\n",
    "        if pat_match_with_seg(rule_jieba.split(),saying_jieba.split()):\n",
    "#            print(rule)\n",
    "            ans = choice(defined_patterns_chinese[rule])\n",
    "            ans_jieba = ''.join(string2rule(ans))\n",
    "            got_patterns = pat_match_with_seg(rule_jieba.split(),saying_jieba.split())\n",
    "#            print(got_patterns[-1])\n",
    "            if got_patterns[-1] == 1:\n",
    "                print(saying_chinese)\n",
    "                break\n",
    "    try:\n",
    "        return ' '.join(subsitite(ans_jieba.split(), pat_to_dict(got_patterns[0:-1])))\n",
    "    except UnboundLocalError:\n",
    "        return print('no matching rule')"
   ]
  },
  {
   "cell_type": "markdown",
   "metadata": {},
   "source": [
    "### 中文匹配结果"
   ]
  },
  {
   "cell_type": "code",
   "execution_count": 11,
   "metadata": {},
   "outputs": [
    {
     "name": "stderr",
     "output_type": "stream",
     "text": [
      "Building prefix dict from the default dictionary ...\n",
      "Loading model from cache C:\\Users\\ric\\AppData\\Local\\Temp\\jieba.cache\n",
      "Loading model cost 0.715 seconds.\n",
      "Prefix dict has been built succesfully.\n"
     ]
    },
    {
     "name": "stdout",
     "output_type": "stream",
     "text": [
      "可这话是彭定康说的\n"
     ]
    },
    {
     "data": {
      "text/plain": [
       "'彭定康说的就一定是真的吗，你再重复一边就代表你也有责任吧'"
      ]
     },
     "execution_count": 11,
     "metadata": {},
     "output_type": "execute_result"
    }
   ],
   "source": [
    "get_response_chinese('可这话是彭定康说的',defined_patterns_chinese).replace(' ','')"
   ]
  }
 ],
 "metadata": {
  "kernelspec": {
   "display_name": "Python 3",
   "language": "python",
   "name": "python3"
  },
  "language_info": {
   "codemirror_mode": {
    "name": "ipython",
    "version": 3
   },
   "file_extension": ".py",
   "mimetype": "text/x-python",
   "name": "python",
   "nbconvert_exporter": "python",
   "pygments_lexer": "ipython3",
   "version": "3.7.3"
  }
 },
 "nbformat": 4,
 "nbformat_minor": 2
}
